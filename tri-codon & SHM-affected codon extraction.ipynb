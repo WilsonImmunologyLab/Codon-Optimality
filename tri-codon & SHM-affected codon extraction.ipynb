{
 "cells": [
  {
   "cell_type": "code",
   "execution_count": null,
   "id": "1d1e1b4e",
   "metadata": {},
   "outputs": [],
   "source": [
    "import pandas as pd"
   ]
  },
  {
   "cell_type": "markdown",
   "id": "3436c006",
   "metadata": {},
   "source": [
    "# Tri-Codon Extraction"
   ]
  },
  {
   "cell_type": "code",
   "execution_count": null,
   "id": "3e329196",
   "metadata": {},
   "outputs": [],
   "source": [
    "# establish hotspot motifs\n",
    "motifs = [\"AGCA\",\"GGCA\",\"TGCA\",\"AGTA\",\"GGTA\",\n",
    "          \"TGTA\",\"AGCT\",\"GGCT\",\"TGCT\",\"AGTT\",\n",
    "          \"GGTT\",\"TGTT\",\"AACT\",\"TACT\",\"AACC\",\"TACC\",\n",
    "          \"AGCC\",\"TGCC\",\"AACA\",\"TACA\"]"
   ]
  },
  {
   "cell_type": "code",
   "execution_count": null,
   "id": "06fe6a1c",
   "metadata": {},
   "outputs": [],
   "source": [
    "# read in csv to analyze\n",
    "df = pd.read_csv('./Copy of IGHV_Human_Hotspot_Pyrimidine Analysis.csv')\n",
    "df.head()"
   ]
  },
  {
   "cell_type": "code",
   "execution_count": null,
   "id": "4866881d",
   "metadata": {},
   "outputs": [],
   "source": [
    "# note: this chunk uses getCSC() function defined in getCSC_ALL.ipynb\n",
    "\n",
    "gene_name_list = []\n",
    "ID_name_list = []\n",
    "motif_list = []\n",
    "base_list = []\n",
    "upstream_codons = []\n",
    "c = []\n",
    "t = []\n",
    "ct = []\n",
    "start_yn = []\n",
    "start_y_pos = []\n",
    "csc = []\n",
    "\n",
    "#for each row of the csv file\n",
    "for index, row in df.iterrows():\n",
    "    gene_name = row['gene name']\n",
    "    seq = row['sequence']\n",
    "    ID = row['ID_name']\n",
    "    \n",
    "    for base in range(len(seq)-3):\n",
    "        tetramer = seq[base:base+4]\n",
    "        if base > 8 and tetramer in motifs:\n",
    "            gene_name_list.append(gene_name)\n",
    "            ID_name_list.append(ID)\n",
    "            motif_list.append(tetramer)\n",
    "            base_list.append(base)\n",
    "            \n",
    "            if base % 3 == 0:\n",
    "                codon = seq[base-9:base]\n",
    "                upstream_codons.append(codon)\n",
    "                c.append(codon.count('C'))\n",
    "                t.append(codon.count('T'))\n",
    "                ct.append(codon.count('C')+codon.count('T'))\n",
    "                start_yn.append(\"N\")\n",
    "                start_y_pos.append(\"-\")\n",
    "                csc.append(getCSC(codon,0))\n",
    "                \n",
    "            elif base % 3 == 1:\n",
    "                codon = seq[base-7:base+2]\n",
    "                upstream_codons.append(codon)\n",
    "                c.append(codon.count('C'))\n",
    "                t.append(codon.count('T'))\n",
    "                ct.append(codon.count('C')+codon.count('T'))\n",
    "                start_yn.append(\"Y\")\n",
    "                start_y_pos.append(\"8\")\n",
    "                csc.append(getCSC(codon,0))\n",
    "                \n",
    "            elif base % 3 == 2:\n",
    "                codon = seq[base-8:base+1]\n",
    "                upstream_codons.append(codon)\n",
    "                c.append(codon.count('C'))\n",
    "                t.append(codon.count('T'))\n",
    "                ct.append(codon.count('C')+codon.count('T'))\n",
    "                start_yn.append(\"Y\")\n",
    "                start_y_pos.append(\"9\")\n",
    "                csc.append(getCSC(codon,0))\n",
    "\n",
    "df_new = pd.DataFrame()\n",
    "df_new[\"IGHV gene\"] = gene_name_list\n",
    "df_new[\"ID\"] = ID_name_list\n",
    "df_new[\"Hotspot DNA\"] = motif_list\n",
    "df_new[\"start base\"] = base_list\n",
    "df_new[\"Upstream Codon Triplet\"] = upstream_codons\n",
    "df_new[\"No. T\"] = t\n",
    "df_new[\"No. C\"] = c\n",
    "df_new[\"No. T+C\"] = ct\n",
    "df_new[\"CSC Avg of Upstream Codon Triplet\"] = csc\n",
    "df_new[\"Triplet Contains Hotspot Start?\"] = start_yn\n",
    "df_new[\"If yes, at what position?\"] = start_y_pos\n",
    "\n",
    "df_new.head()"
   ]
  },
  {
   "cell_type": "markdown",
   "id": "efd29840",
   "metadata": {},
   "source": [
    "# SHM-Affected Codon Extraction"
   ]
  },
  {
   "cell_type": "code",
   "execution_count": null,
   "id": "b17158a5",
   "metadata": {},
   "outputs": [],
   "source": [
    "# read in csv file to analyze (output of random_mutations.ipynb)\n",
    "\n",
    "df = pd.read_csv('./Random/Tonsil_withCSC_new_seqs_vals_COPY.csv')\n",
    "df.head()"
   ]
  },
  {
   "cell_type": "code",
   "execution_count": null,
   "id": "68f8b03e",
   "metadata": {},
   "outputs": [],
   "source": [
    "ighv_list = []\n",
    "base_list = []\n",
    "\n",
    "#for each row of the csv file\n",
    "for index, row in df.iterrows():\n",
    "    ighv_gene = row['V1']\n",
    "    germline_seq = row['Germline']\n",
    "    length = len(germline_seq)\n",
    "    random_muts = row['RandomVariants']\n",
    "    \n",
    "    random_muts_list = random_muts.split(',')\n",
    "        \n",
    "    #for each randomly-mutated sequence\n",
    "    for i in range(len(random_muts_list)):\n",
    "        mut_seq = random_muts_list[i]\n",
    "            \n",
    "        #for each codon over the length of the mutated and germline sequences\n",
    "        for base in range(0, length, 3):\n",
    "            #if it's a full codon\n",
    "            if len(mut_seq[base:base+3]) == 3:\n",
    "                #initialize codons to compare\n",
    "                mut_codon = mut_seq[base:base+3]\n",
    "                germline_codon = germline_seq[base:base+3]\n",
    "\n",
    "                #if the mutated codon and germline codon match:\n",
    "                if mut_codon == germline_codon:\n",
    "                    pass\n",
    "\n",
    "                #if the 2 codons are different --> mutation:\n",
    "                else:\n",
    "                    #store the sequence name and starting base position\n",
    "                    ighv_list.append(ighv_gene)\n",
    "                    base_list.append(base)\n",
    "\n",
    "\n",
    "output = pd.DataFrame()\n",
    "output[\"IGHV Gene\"] = ighv_list\n",
    "output[\"start base\"] = base_list\n",
    "output"
   ]
  },
  {
   "cell_type": "markdown",
   "id": "7fbeade6",
   "metadata": {},
   "source": [
    "# Determine the region in which the affected codon/mutation occurs"
   ]
  },
  {
   "cell_type": "code",
   "execution_count": null,
   "id": "49bfa064",
   "metadata": {},
   "outputs": [],
   "source": [
    "# read in regional base cutoff values & convert to dictionary\n",
    "# values come from IgBlast\n",
    "vdb = pd.read_csv('./FR1_Based_FR-CDR_Cutoffs_CLEAN_25Oct2024.csv')\n",
    "vdb.head()\n",
    "\n",
    "vdb_dict = vdb.set_index('Vgene').T.to_dict('dict')"
   ]
  },
  {
   "cell_type": "code",
   "execution_count": null,
   "id": "e5ba4c77",
   "metadata": {},
   "outputs": [],
   "source": [
    "location = []\n",
    "\n",
    "#for each row of the resulting dataframe from previous step\n",
    "for index, row in output.iterrows():\n",
    "    ighv_gene = row['IGHV gene']\n",
    "    base = row['start base']\n",
    "    \n",
    "    if ighv_gene in vdb_dict.keys():\n",
    "        current_dict = vdb_dict[ighv_gene]\n",
    "        if base >= current_dict['FR1-From']-1 and base <= current_dict['FR1-To']-1:\n",
    "            location.append('FWR1')\n",
    "        elif base >= current_dict['CDR1-From']-1 and base <= current_dict['CDR1-To']-1:\n",
    "            location.append('CDR1')\n",
    "        elif base >= current_dict['FR2-From']-1 and base <= current_dict['FR2-To']-1:\n",
    "            location.append('FWR2')\n",
    "        elif base >= current_dict['CDR2-From']-1 and base <= current_dict['CDR2-To']-1:\n",
    "            location.append('CDR2')\n",
    "        elif base >= current_dict['FR3-From']-1 and base <= current_dict['FR3-To']-1:\n",
    "            location.append('FWR3')\n",
    "        elif base > current_dict['FR3-To']-1:\n",
    "            location.append('CDR3/FR4')\n",
    "    \n",
    "    else:\n",
    "        location.append(' - ')\n",
    "        \n",
    "output[\"codon subregion\"] = location\n",
    "output.head()"
   ]
  },
  {
   "cell_type": "code",
   "execution_count": null,
   "id": "3d286b0b",
   "metadata": {},
   "outputs": [],
   "source": [
    "# summary of counts of affected codons/region\n",
    "\n",
    "loc_df = pd.DataFrame(location)\n",
    "print(loc_df[0].value_counts())"
   ]
  }
 ],
 "metadata": {
  "kernelspec": {
   "display_name": "Python 3 (ipykernel)",
   "language": "python",
   "name": "python3"
  },
  "language_info": {
   "codemirror_mode": {
    "name": "ipython",
    "version": 3
   },
   "file_extension": ".py",
   "mimetype": "text/x-python",
   "name": "python",
   "nbconvert_exporter": "python",
   "pygments_lexer": "ipython3",
   "version": "3.9.13"
  }
 },
 "nbformat": 4,
 "nbformat_minor": 5
}
