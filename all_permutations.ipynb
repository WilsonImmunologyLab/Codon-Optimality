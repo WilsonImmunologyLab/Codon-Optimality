{
 "cells": [
  {
   "cell_type": "code",
   "execution_count": null,
   "id": "40d93466-4f7e-4c81-9598-efa6b2378fab",
   "metadata": {},
   "outputs": [],
   "source": [
    "# Make the most mutable version of a given sequence, in two variations (below). Then generate CSC Avgs. (using human CSC values) for each. \n",
    "#    1. Most mutable just within CDRs\n",
    "#    2. Most mutable across all FRs/CDRs"
   ]
  },
  {
   "cell_type": "code",
   "execution_count": 3,
   "id": "049f4fe2-9418-488b-ad52-4bcfe5d6722d",
   "metadata": {},
   "outputs": [],
   "source": [
    "# FUNCTIONS\n",
    "\n",
    "def getCodons(Seq):\n",
    "    # Returns a list of tuples in format (Codon Name, Amino Acid) from input sequence, in order  #\n",
    "    # Seq is a STRING                                                                            #\n",
    "    \n",
    "    # get a list of codon names for each codon in Seq\n",
    "    CodonList = []\n",
    "    for x in range(0, len(Seq), 3):\n",
    "        CodonList.append(Seq[x:x+3])\n",
    "    \n",
    "    # for each codon, translate it into amino acid, and create a list\n",
    "    ProteinSeq = [] \n",
    "    for codon in CodonList:\n",
    "        if codon in CodonDict:\n",
    "            ProteinSeq.append(CodonDict[codon])\n",
    "        else:\n",
    "            ProteinSeq.append('~')\n",
    "    \n",
    "    # Create a list of tuples of (Codon Name, Amino Acid) from the 2 lists\n",
    "    SeqTup = tuple(zip(CodonList, ProteinSeq))\n",
    "    \n",
    "    return SeqTup\n",
    "\n",
    "def getAA(seq):\n",
    "    aa = ''\n",
    "    for codon in getCodons(seq):\n",
    "        aa += str(codon[1])\n",
    "    return aa\n",
    "\n",
    "def getCodonsForAA(AA):\n",
    "    # Returns a list of tuples, each in format (Codon Name, Amino Acid), containing every codon  #\n",
    "    # for input amino acid (AA)                                                                  #\n",
    "    # AA is a STRING                                                                             #\n",
    "    \n",
    "    all_codons = []\n",
    "    for tuple in list:\n",
    "        if tuple[1] == AA:\n",
    "            all_codons.append(tuple[0])\n",
    "    \n",
    "    return all_codons"
   ]
  },
  {
   "cell_type": "code",
   "execution_count": 4,
   "id": "2eaec5b1-ea77-4b9c-bdea-c547c7c74275",
   "metadata": {},
   "outputs": [],
   "source": [
    "# VARIABLES - edit based on sequence. Note: framework regions are segmented so they are easier to work with\n",
    "cdr1 = 'GGATTCACTTTCAGTAACGCCTGG'\n",
    "cdr2 = 'ATTAAAAGCAAAACTGATGGTGGGACAACA'\n",
    "cdr3 = 'ACCACAGAA'\n",
    "fwr1_1 = 'CAGGTGCAGCTGCAGGAGTCGGGCCCAGGA' \n",
    "fwr1_2 = 'CTGGTGAAGCCTTCGGACACCCTG'\n",
    "fwr1_3 = 'TCCCTCACCTGCGCTGTCTCT'\n",
    "fwr2_1 = 'TGGGGCTGGATCCGGCAGCCCCCAGGG'\n",
    "fwr2_2 = 'AAGGGACTGGAGTGGATTGGGTAC'\n",
    "fwr3_1 = 'TACTACAACCCGTCCCTCAAGAGTCGA'\n",
    "fwr3_2 = 'GTCACCATGTCAGTAGACACGTCCAAGAACCAG'\n",
    "fwr3_3 = 'TTCTCCCTGAAGCTGAGCTCTGTG'\n",
    "fwr3_4 = 'ACCGCCGTGGACACGGCCGTGTATTACTGT'\n",
    "\n",
    "CodonDict={'ATT':'I','ATC':'I','ATA':'I','CTT':'L','CTC':'L','CTA':'L','CTG':'L','TTA':'L','TTG':'L','GTT':'V','GTC':'V',\n",
    "           'GTA':'V','GTG':'V','TTT':'F','TTC':'F','ATG':'M','TGT':'C','TGC':'C','GCT':'A','GCC':'A','GCA':'A','GCG':'A',  \n",
    "           'GGT':'G','GGC':'G','GGA':'G','GGG':'G','CCT':'P','CCC':'P','CCA':'P','CCG':'P','ACT':'T','ACC':'T','ACA':'T',  \n",
    "           'ACG':'T','TCT':'S','TCC':'S','TCA':'S','TCG':'S','AGT':'S','AGC':'S','TAT':'Y','TAC':'Y','TGG':'W','CAA':'Q',  \n",
    "           'CAG':'Q','AAT':'N','AAC':'N','CAT':'H','CAC':'H','GAA':'E','GAG':'E','GAT':'D','GAC':'D','AAA':'K','AAG':'K',  \n",
    "           'CGT':'R','CGC':'R','CGA':'R','CGG':'R','AGA':'R','AGG':'R','TAA':'*','TAG':'*','TGA':'*'}\n",
    "\n",
    "# make CodonDict into a list of tuples\n",
    "list = [(k, v) for k, v in CodonDict.items()]"
   ]
  },
  {
   "cell_type": "code",
   "execution_count": 276,
   "id": "62ab669d-a5ec-4071-b80e-b4a1cb0dfb64",
   "metadata": {},
   "outputs": [
    {
     "data": {
      "text/plain": [
       "65536"
      ]
     },
     "execution_count": 276,
     "metadata": {},
     "output_type": "execute_result"
    }
   ],
   "source": [
    "# repeat next 2 chunks for each FWR/CDR\n",
    "\n",
    "AA_seq = getAA(fwr3_4)\n",
    "d = dict()\n",
    "for i in range(len(AA_seq)):\n",
    "    possible_codons = getCodonsForAA(AA_seq[i])\n",
    "    d[i] = possible_codons\n",
    "    \n",
    "total = 1\n",
    "for key in d:\n",
    "    total = total * len(d[key])\n",
    "    \n",
    "total   # total number of possible codon arrangements for this region"
   ]
  },
  {
   "cell_type": "code",
   "execution_count": 277,
   "id": "35d524c6-deee-480d-bd08-d006d9b546cd",
   "metadata": {},
   "outputs": [],
   "source": [
    "# generate list of dictionaries containing sequences for every possible permutation of codons in d \n",
    "# save in variable permutations_dicts in format [ {pos:codon, pos:codon}, ... , {pos:codon, pos:codon} ]\n",
    "\n",
    "import itertools\n",
    "keys, values = zip(*d.items())\n",
    "permutations_dicts = [dict(zip(keys, v)) for v in itertools.product(*values)]\n",
    "\n",
    "# concatenate each codon to create the full unique sequence, for each dictionary (seq) in permutations_dicts\n",
    "# at same time add each seq to a string, separated by new lines\n",
    "\n",
    "all_seq = []\n",
    "for dic in permutations_dicts:\n",
    "    seq = ''\n",
    "    for key in dic:\n",
    "        seq += dic[key]\n",
    "    all_seq.append(seq)\n",
    "\n",
    "file = ''\n",
    "for seq in all_seq:\n",
    "    file += str(seq) + '\\n'\n",
    "    \n",
    "# write string into a .txt file\n",
    "with open('4-28_fwr3-4.txt', 'w') as f:\n",
    "    f.write(file)"
   ]
  },
  {
   "cell_type": "code",
   "execution_count": null,
   "id": "efe78670-04f2-47e0-92ea-253623639d97",
   "metadata": {},
   "outputs": [],
   "source": [
    "# Next, find most mutable sequence for each of the files created using shazam in R. \n",
    "# Then concatenate all segmented framework regions and check to see if AA sequence is unchanged"
   ]
  },
  {
   "cell_type": "code",
   "execution_count": 1,
   "id": "385e02a1-b61a-49bb-a25b-891b53de0d5c",
   "metadata": {},
   "outputs": [],
   "source": [
    "orig_fwr1 = 'GAGGTGCAGCTGGTGGAGTCTGGGGGAGGCTTGGTAAAGCCTGGGGGGTCCCTTAGACTCTCCTGTGCAGCCTCT'\n",
    "new_fwr1 = 'GAGGTACAGCTAGTAGAAAGCGGTGGTGGTCTAGTAAAACCTGGGGGCAGCTTACGGTTAAGCTGCGCAGCATCT'\n",
    "\n",
    "orig_fwr2 = 'ATGAGCTGGGTCCGCCAGGCTCCAGGGAAGGGGCTGGAGTGGGTTGGCCGT'\n",
    "new_fwr2 = 'ATGAGCTGGGTACGGCAAGCACCTGGAAAGGGTTTAGAATGGGTAGGTAGA'\n",
    "\n",
    "orig_fwr3 = 'GACTACGCTGCACCCGTGAAAGGCAGATTCACCATCTCAAGAGATGATTCAAAAAACACGCTGTATCTGCAAATGAACAGCCTGAAAACCGAGGACACAGCCGTGTATTACTGT'\n",
    "new_fwr3 = 'GATTATGCAGCACCGGTAAAGGGCAGATTTACTATTAGCAGGGATGATAGCAAAAATACATTGTATCTTCAAATGAATAGCTTAAAGACGGAAGATACAGCAGTATACTACTGC'"
   ]
  },
  {
   "cell_type": "code",
   "execution_count": 5,
   "id": "6ccbed4a-5d5d-4f70-89a1-ad6c06e154e0",
   "metadata": {},
   "outputs": [
    {
     "name": "stdout",
     "output_type": "stream",
     "text": [
      "True\n",
      "True\n",
      "True\n"
     ]
    }
   ],
   "source": [
    "#check AA seq\n",
    "\n",
    "print(getAA(orig_fwr1) == getAA(new_fwr1))\n",
    "print(getAA(orig_fwr2) == getAA(new_fwr2))\n",
    "print(getAA(orig_fwr3) == getAA(new_fwr3))"
   ]
  },
  {
   "cell_type": "code",
   "execution_count": 6,
   "id": "5cb829d8-634f-48e5-9677-f86ee18e9bb2",
   "metadata": {},
   "outputs": [
    {
     "name": "stdout",
     "output_type": "stream",
     "text": [
      "True\n"
     ]
    }
   ],
   "source": [
    "# concatenate all together and check\n",
    "\n",
    "orig = 'ATGGGGTCAACCGCCATCCTCGCCCTCCTCCTGGCTGTTCTCCAAGGAGTCTGTTCCGAGGTGCAGCTGGTGCAGTCTGGAGCAGAGGTGAAAAAGCCCGGGGAGTCTCTGAAGATCTCCTGTAAGGGTTCTGGATACAGCTTTACCAGCTACTGGATCGGCTGGGTGCGCCAGATGCCCGGGAAAGGCCTGGAGTGGATGGGGATCATCTATCCTGGTGACTCTGATACCAGATACAGCCCGTCCTTCCAAGGCCAGGTCACCATCTCAGCCGACAAGTCCATCAGCACCGCCTACCTGCAGTGGAGCAGCCTGAAGGCCTCGGACACCGCCATGTATTACTGTGCGAGACA'\n",
    "new = 'ATGGGGTCAACCGCCATCCTCGCCCTCCTCCTGGCTGTTCTCCAAGGAGTCTGTTCCGAGGTACAGCTAGTTCAAAGCGGGGCAGAGGTAAAAAAACCTGGGGAGAGCTTAAAAATTAGCTGCAAGGGCAGTGGGTACAGCTTTACTAGCTACTGGATAGGCTGGGTACGTCAAATGCCCGGTAAAGGTTTAGAATGGATGGGTATCATATATCCTGGGGATAGCGATACACGGTATAGCCCGAGCTTTCAAGGGCAGGTTACTATATCAGCTGATAAAAGCATTAGCACAGCATATCTTCAATGGAGTAGTCTAAAAGCAAGCGATACAGCAATGTACTACTGCGCAAGGCA'\n",
    "\n",
    "print(getAA(orig) == getAA(new))"
   ]
  }
 ],
 "metadata": {
  "kernelspec": {
   "display_name": "Python 3 (ipykernel)",
   "language": "python",
   "name": "python3"
  },
  "language_info": {
   "codemirror_mode": {
    "name": "ipython",
    "version": 3
   },
   "file_extension": ".py",
   "mimetype": "text/x-python",
   "name": "python",
   "nbconvert_exporter": "python",
   "pygments_lexer": "ipython3",
   "version": "3.11.1"
  }
 },
 "nbformat": 4,
 "nbformat_minor": 5
}
