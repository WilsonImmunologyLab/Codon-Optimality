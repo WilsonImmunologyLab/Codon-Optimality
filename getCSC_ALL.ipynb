import pandas as pd
import numpy as np

def getCSC(Seq, start_position, dict):
    #separate sequence by codon, and put into list
    CodonList = []
    for x in range(start_position, len(Seq), 3):
        #if it's a full codon
        if len(Seq[x:x+3]) == 3:         
            CodonList.append(Seq[x:x+3].upper())
    
    # for each codon, add to sumScore it's CSC score and then find the avg across the whole sequence
    sumScore = 0
    numstops = 0
    for codon in CodonList:
        if codon in dict:
            score = dict[codon]
            sumScore += score
        else: #is a stop codon (still counted as codon in CodonList, but doesn't have CSC score, so don't include in avg)
            numstops += 1
    avgScore = sumScore / (len(CodonList) - numstops)
    return avgScore

def getRSCU_GeoMean(Seq, start_position):
    CodonList = []
    for x in range(start_position, len(Seq), 3):
        if len(Seq[x:x+3]) == 3:          
            CodonList.append(Seq[x:x+3].upper())

    prodScore = []
    numstops = 0
    for codon in CodonList:
        if codon in RSCU_dict:
            score = RSCU_dict[codon]
            prodScore.append(score)
        else: 
            numstops += 1
    product = np.prod(prodScore)
    exponent = 1/(len(CodonList) - numstops)
    Score = product ** exponent
    return Score

def getRSCU_Max_GeoMean(Seq, start_position):
    CodonList = []
    for x in range(start_position, len(Seq), 3):
        if len(Seq[x:x+3]) == 3:          
            CodonList.append(Seq[x:x+3].upper())

    prodScore = []
    numstops = 0
    for codon in CodonList:
        if codon in RSCU_Max_dict:
            score = RSCU_Max_dict[codon]
            prodScore.append(score)
        else:
            numstops += 1
    product = np.prod(prodScore)
    exponent = 1/(len(CodonList) - numstops)
    Score = product ** exponent
    return Score
